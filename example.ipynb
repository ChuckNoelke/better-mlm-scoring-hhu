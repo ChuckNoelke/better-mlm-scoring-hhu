{
 "cells": [
  {
   "cell_type": "code",
   "execution_count": 1,
   "metadata": {},
   "outputs": [],
   "source": [
    "from minicons import cwe\n",
    "\n",
    "import torch\n",
    "import csv"
   ]
  },
  {
   "cell_type": "code",
   "execution_count": 2,
   "metadata": {},
   "outputs": [],
   "source": [
    "model = cwe.CWE('gpt2')"
   ]
  },
  {
   "cell_type": "code",
   "execution_count": 3,
   "metadata": {},
   "outputs": [
    {
     "output_type": "execute_result",
     "data": {
      "text/plain": "['The', 'Ġcat', 'Ġate', 'Ġthe', 'Ġrat']"
     },
     "metadata": {},
     "execution_count": 3
    }
   ],
   "source": [
    "model.tokenize(\"The cat ate the rat\")"
   ]
  },
  {
   "cell_type": "code",
   "execution_count": null,
   "metadata": {},
   "outputs": [],
   "source": []
  },
  {
   "cell_type": "code",
   "execution_count": 2,
   "metadata": {},
   "outputs": [],
   "source": [
    "base_sentence = \"He caught the pass and scored another touchdown. There was nothing he enjoyed more than a good game of\"\n",
    "words = [\"football\", \"baseball\", \"monopoly\"]"
   ]
  },
  {
   "cell_type": "code",
   "execution_count": 5,
   "metadata": {
    "tags": []
   },
   "outputs": [
    {
     "output_type": "stream",
     "name": "stderr",
     "text": "ftfy or spacy is not installed using BERT BasicTokenizer instead of SpaCy & ftfy.\n"
    }
   ],
   "source": [
    "models = [\"bert-base-uncased\", \"bert-large-uncased\", \"roberta-base\", \"gpt2\", \"openai-gpt\", \"xlnet-base-cased\", \"roberta-large\"]\n",
    "\n",
    "with open(\"/home/kmisra/contextual_n400.csv\", 'w') as f:\n",
    "    writer = csv.writer(f)\n",
    "    for model in models:\n",
    "        transformer = cwe.CWE(model, all_layers = True)\n",
    "        for l in range(0, transformer.layers + 1):\n",
    "            for word in words:\n",
    "                sentence = base_sentence + \" \" + word\n",
    "                w, c = transformer.context_cosine(sentence, word, layer = l)\n",
    "                contextual_similarity = round(torch.tensor(list(dict(zip(w,c)).values())).mean().item(), 4)\n",
    "                writer.writerow([model, l, word, contextual_similarity])"
   ]
  },
  {
   "cell_type": "code",
   "execution_count": 5,
   "metadata": {},
   "outputs": [
    {
     "output_type": "execute_result",
     "data": {
      "text/plain": "{'[CLS]': 0.9372750520706177,\n 'he': 0.9298704862594604,\n 'caught': 0.9448925852775574,\n 'the': 0.9309799671173096,\n 'pass': 0.9259966611862183,\n 'and': 0.9368696808815002,\n 'scored': 0.906683623790741,\n 'another': 0.9423209428787231,\n 'touchdown': 0.9199809432029724,\n '.': 0.9390969276428223,\n 'there': 0.9411791563034058,\n 'was': 0.9454566240310669,\n 'nothing': 0.9330489635467529,\n 'enjoyed': 0.9498648047447205,\n 'more': 0.9263346791267395,\n 'than': 0.9219998717308044,\n 'a': 0.9281640648841858,\n 'good': 0.9335828423500061,\n 'game': 0.9325376749038696,\n 'of': 0.9373526573181152,\n '[SEP]': 0.932860255241394}"
     },
     "metadata": {},
     "execution_count": 5
    }
   ],
   "source": [
    "dict(zip(w,c))"
   ]
  },
  {
   "cell_type": "code",
   "execution_count": null,
   "metadata": {},
   "outputs": [],
   "source": []
  }
 ],
 "metadata": {
  "language_info": {
   "codemirror_mode": {
    "name": "ipython",
    "version": 3
   },
   "file_extension": ".py",
   "mimetype": "text/x-python",
   "name": "python",
   "nbconvert_exporter": "python",
   "pygments_lexer": "ipython3",
   "version": "3.7.7-final"
  },
  "orig_nbformat": 2,
  "kernelspec": {
   "name": "python3",
   "display_name": "Python 3"
  }
 },
 "nbformat": 4,
 "nbformat_minor": 2
}