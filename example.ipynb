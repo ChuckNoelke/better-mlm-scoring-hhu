{
 "cells": [
  {
   "cell_type": "code",
   "execution_count": 1,
   "metadata": {},
   "outputs": [],
   "source": [
    "from minicons import cwe, scorer, utils\n",
    "\n",
    "import torch\n",
    "import csv"
   ]
  },
  {
   "cell_type": "code",
   "execution_count": 2,
   "metadata": {},
   "outputs": [],
   "source": [
    "model = cwe.CWE('bert-base-uncased')"
   ]
  },
  {
   "cell_type": "code",
   "execution_count": 3,
   "metadata": {},
   "outputs": [],
   "source": [
    "sentences = [(\"the game is afoot now!\", \"afoot\"), (\"i was at the bank of the river ganga!\", \"bank\")]\n",
    "sentences = [(\"the game is afoot now!\", 3), (\"i was at the bank of the river ganga!\", 4)]"
   ]
  },
  {
   "cell_type": "code",
   "execution_count": 4,
   "metadata": {},
   "outputs": [
    {
     "output_type": "execute_result",
     "data": {
      "text/plain": [
       "tensor([[ 0.5399, -0.2461, -0.0968,  ..., -0.4670, -0.5312, -0.0549],\n",
       "        [-0.8258, -0.4308,  0.2744,  ..., -0.5987, -0.6984,  0.2087]],\n",
       "       grad_fn=<MeanBackward1>)"
      ]
     },
     "metadata": {},
     "execution_count": 4
    }
   ],
   "source": [
    "model.extract_representation(sentences, 12)"
   ]
  },
  {
   "cell_type": "code",
   "execution_count": 5,
   "metadata": {},
   "outputs": [
    {
     "output_type": "execute_result",
     "data": {
      "text/plain": [
       "(tensor([[  101,  7632,  2026,  2171,  2003, 22827,  4509,  2912,   102],\n",
       "         [  101,  1045,  2572,  1037, 12532,  8033,   102,     0,     0]]),\n",
       " tensor([[[ 0.0532,  0.2268, -0.3352,  ..., -0.3359,  0.2717,  0.4579],\n",
       "          [ 0.5793,  0.5765,  0.4213,  ..., -0.0170,  0.6549, -0.2564],\n",
       "          [-0.2209, -0.1115, -0.2526,  ..., -0.1154, -0.1818,  0.0431],\n",
       "          ...,\n",
       "          [ 0.1203, -0.6170, -0.4196,  ..., -0.4597,  0.2969,  0.3223],\n",
       "          [-0.7284, -0.6379, -0.4574,  ..., -0.0088,  0.1195, -0.1934],\n",
       "          [ 0.7997, -0.0431, -0.4385,  ...,  0.0473, -0.6968, -0.2386]],\n",
       " \n",
       "         [[-0.0695,  0.3759,  0.1666,  ..., -0.3582,  0.3794,  0.5100],\n",
       "          [ 0.4299,  0.2177, -0.2908,  ..., -0.0695,  0.5857,  0.2417],\n",
       "          [ 0.4344,  0.6076, -0.1464,  ..., -0.4406,  0.5414,  0.2579],\n",
       "          ...,\n",
       "          [ 0.6442,  0.2516,  0.1550,  ...,  0.0042, -0.7955, -0.0657],\n",
       "          [ 0.0751, -0.1285,  0.3310,  ...,  0.1002,  0.2263, -0.1037],\n",
       "          [-0.0557, -0.1183,  0.2976,  ...,  0.1740,  0.3384, -0.1873]]],\n",
       "        grad_fn=<NativeLayerNormBackward>))"
      ]
     },
     "metadata": {},
     "execution_count": 5
    }
   ],
   "source": [
    "model.encode_text([\"Hi my name is kanishka\", \"I am a disco dancer\"], 12)"
   ]
  },
  {
   "cell_type": "code",
   "execution_count": 12,
   "metadata": {},
   "outputs": [
    {
     "output_type": "execute_result",
     "data": {
      "text/plain": [
       "[[21358, 17206], [21358, 17206]]"
      ]
     },
     "metadata": {},
     "execution_count": 12
    }
   ],
   "source": [
    "[model.tokenizer.encode_plus(f' {s.split()[i]}', add_special_tokens = False)['input_ids'] for s, i in sentences]"
   ]
  },
  {
   "cell_type": "code",
   "execution_count": 20,
   "metadata": {},
   "outputs": [
    {
     "output_type": "execute_result",
     "data": {
      "text/plain": [
       "['the game is afoot !', 'the game is afoot !']"
      ]
     },
     "metadata": {},
     "execution_count": 20
    }
   ],
   "source": [
    "list(list(list(zip(*sentences))[0]))"
   ]
  },
  {
   "cell_type": "code",
   "execution_count": 2,
   "metadata": {},
   "outputs": [
    {
     "output_type": "execute_result",
     "data": {
      "text/plain": [
       "['the game is ', '!']"
      ]
     },
     "metadata": {},
     "execution_count": 2
    }
   ],
   "source": [
    "\"the game is afoot!\".split(\"afoot\")"
   ]
  },
  {
   "cell_type": "code",
   "execution_count": 3,
   "metadata": {},
   "outputs": [
    {
     "output_type": "execute_result",
     "data": {
      "text/plain": [
       "3"
      ]
     },
     "metadata": {},
     "execution_count": 3
    }
   ],
   "source": [
    "utils.find_index(\"the game is afoot!\", \"afoot\", \"regular\")"
   ]
  },
  {
   "cell_type": "code",
   "execution_count": 3,
   "metadata": {},
   "outputs": [
    {
     "output_type": "error",
     "ename": "AttributeError",
     "evalue": "'CWE' object has no attribute 'tokenize'",
     "traceback": [
      "\u001b[0;31m---------------------------------------------------------------------------\u001b[0m",
      "\u001b[0;31mAttributeError\u001b[0m                            Traceback (most recent call last)",
      "\u001b[0;32m<ipython-input-3-90f1612ae7a2>\u001b[0m in \u001b[0;36m<module>\u001b[0;34m\u001b[0m\n\u001b[0;32m----> 1\u001b[0;31m \u001b[0mmodel\u001b[0m\u001b[0;34m.\u001b[0m\u001b[0mtokenize\u001b[0m\u001b[0;34m(\u001b[0m\u001b[0;34m\"The cat ate the rat\"\u001b[0m\u001b[0;34m)\u001b[0m\u001b[0;34m\u001b[0m\u001b[0;34m\u001b[0m\u001b[0m\n\u001b[0m",
      "\u001b[0;31mAttributeError\u001b[0m: 'CWE' object has no attribute 'tokenize'"
     ]
    }
   ],
   "source": [
    "model.tokenize(\"The cat ate the rat\")"
   ]
  },
  {
   "cell_type": "code",
   "execution_count": null,
   "metadata": {},
   "outputs": [],
   "source": []
  },
  {
   "cell_type": "code",
   "execution_count": 2,
   "metadata": {},
   "outputs": [],
   "source": [
    "base_sentence = \"He caught the pass and scored another touchdown. There was nothing he enjoyed more than a good game of\"\n",
    "words = [\"football\", \"baseball\", \"monopoly\"]"
   ]
  },
  {
   "cell_type": "code",
   "execution_count": 5,
   "metadata": {
    "tags": []
   },
   "outputs": [
    {
     "output_type": "stream",
     "name": "stderr",
     "text": "ftfy or spacy is not installed using BERT BasicTokenizer instead of SpaCy & ftfy.\n"
    }
   ],
   "source": [
    "models = [\"bert-base-uncased\", \"bert-large-uncased\", \"roberta-base\", \"gpt2\", \"openai-gpt\", \"xlnet-base-cased\", \"roberta-large\"]\n",
    "\n",
    "with open(\"/home/kmisra/contextual_n400.csv\", 'w') as f:\n",
    "    writer = csv.writer(f)\n",
    "    for model in models:\n",
    "        transformer = cwe.CWE(model, all_layers = True)\n",
    "        for l in range(0, transformer.layers + 1):\n",
    "            for word in words:\n",
    "                sentence = base_sentence + \" \" + word\n",
    "                w, c = transformer.context_cosine(sentence, word, layer = l)\n",
    "                contextual_similarity = round(torch.tensor(list(dict(zip(w,c)).values())).mean().item(), 4)\n",
    "                writer.writerow([model, l, word, contextual_similarity])"
   ]
  },
  {
   "cell_type": "code",
   "execution_count": 5,
   "metadata": {},
   "outputs": [
    {
     "output_type": "execute_result",
     "data": {
      "text/plain": "{'[CLS]': 0.9372750520706177,\n 'he': 0.9298704862594604,\n 'caught': 0.9448925852775574,\n 'the': 0.9309799671173096,\n 'pass': 0.9259966611862183,\n 'and': 0.9368696808815002,\n 'scored': 0.906683623790741,\n 'another': 0.9423209428787231,\n 'touchdown': 0.9199809432029724,\n '.': 0.9390969276428223,\n 'there': 0.9411791563034058,\n 'was': 0.9454566240310669,\n 'nothing': 0.9330489635467529,\n 'enjoyed': 0.9498648047447205,\n 'more': 0.9263346791267395,\n 'than': 0.9219998717308044,\n 'a': 0.9281640648841858,\n 'good': 0.9335828423500061,\n 'game': 0.9325376749038696,\n 'of': 0.9373526573181152,\n '[SEP]': 0.932860255241394}"
     },
     "metadata": {},
     "execution_count": 5
    }
   ],
   "source": [
    "dict(zip(w,c))"
   ]
  },
  {
   "cell_type": "code",
   "execution_count": 4,
   "metadata": {},
   "outputs": [
    {
     "output_type": "stream",
     "name": "stderr",
     "text": [
      "Some weights of the model checkpoint at bert-base-uncased were not used when initializing BertForMaskedLM: ['cls.seq_relationship.weight', 'cls.seq_relationship.bias']\n",
      "- This IS expected if you are initializing BertForMaskedLM from the checkpoint of a model trained on another task or with another architecture (e.g. initializing a BertForSequenceClassification model from a BertForPretraining model).\n",
      "- This IS NOT expected if you are initializing BertForMaskedLM from the checkpoint of a model that you expect to be exactly identical (initializing a BertForSequenceClassification model from a BertForSequenceClassification model).\n",
      "Some weights of BertForMaskedLM were not initialized from the model checkpoint at bert-base-uncased and are newly initialized: ['cls.predictions.decoder.bias']\n",
      "You should probably TRAIN this model on a down-stream task to be able to use it for predictions and inference.\n",
      "Using pad_token, but it is not set yet.\n"
     ]
    }
   ],
   "source": [
    "mlm_model = scorer.MaskedLMScorer('bert-base-uncased', 'cpu')\n",
    "clm_model = scorer.IncrementalLMScorer('distilgpt2', 'cpu')"
   ]
  },
  {
   "cell_type": "code",
   "execution_count": 3,
   "metadata": {},
   "outputs": [],
   "source": [
    "def scores(s, model = \"clm\"):\n",
    "    if model == \"clm\":\n",
    "        result = clm_model.logprobs(clm_model.prepare_text(s))\n",
    "    else:\n",
    "        result = mlm_model.logprobs(mlm_model.prepare_text(s))\n",
    "    logprobs, tokens = list(zip(*result))\n",
    "    surprisals = list(map(lambda x: x.sum().tolist(), logprobs))\n",
    "    return surprisals"
   ]
  },
  {
   "cell_type": "code",
   "execution_count": 6,
   "metadata": {},
   "outputs": [
    {
     "output_type": "execute_result",
     "data": {
      "text/plain": [
       "[-25.771879196166992,\n",
       " -33.48912048339844,\n",
       " -32.07358360290527,\n",
       " -37.89309310913086]"
      ]
     },
     "metadata": {},
     "execution_count": 6
    }
   ],
   "source": [
    "clm_model.score([\"Football is a sport.\", \"A football is a sport.\", \"Football is a bird.\", \"A football is a bird.\"])"
   ]
  },
  {
   "cell_type": "code",
   "execution_count": 5,
   "metadata": {},
   "outputs": [
    {
     "output_type": "error",
     "ename": "AttributeError",
     "evalue": "'MaskedLMScorer' object has no attribute 'num_hidden_layers'",
     "traceback": [
      "\u001b[0;31m---------------------------------------------------------------------------\u001b[0m",
      "\u001b[0;31mAttributeError\u001b[0m                            Traceback (most recent call last)",
      "\u001b[0;32m<ipython-input-5-49fe9613af7e>\u001b[0m in \u001b[0;36m<module>\u001b[0;34m\u001b[0m\n\u001b[0;32m----> 1\u001b[0;31m \u001b[0mmlm_model\u001b[0m\u001b[0;34m.\u001b[0m\u001b[0mnum_hidden_layers\u001b[0m\u001b[0;34m\u001b[0m\u001b[0;34m\u001b[0m\u001b[0m\n\u001b[0m",
      "\u001b[0;31mAttributeError\u001b[0m: 'MaskedLMScorer' object has no attribute 'num_hidden_layers'"
     ]
    }
   ],
   "source": [
    "mlm_model.num_hidden_layers"
   ]
  },
  {
   "cell_type": "code",
   "execution_count": null,
   "metadata": {},
   "outputs": [],
   "source": []
  }
 ],
 "metadata": {
  "language_info": {
   "codemirror_mode": {
    "name": "ipython",
    "version": 3
   },
   "file_extension": ".py",
   "mimetype": "text/x-python",
   "name": "python",
   "nbconvert_exporter": "python",
   "pygments_lexer": "ipython3",
   "version": "3.8.3-final"
  },
  "orig_nbformat": 2,
  "kernelspec": {
   "name": "python3",
   "display_name": "Python 3"
  }
 },
 "nbformat": 4,
 "nbformat_minor": 2
}