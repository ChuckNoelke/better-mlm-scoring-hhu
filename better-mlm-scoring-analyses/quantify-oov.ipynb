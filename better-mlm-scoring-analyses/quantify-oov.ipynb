{
 "cells": [
  {
   "cell_type": "code",
   "execution_count": 1,
   "id": "5eebd004",
   "metadata": {},
   "outputs": [],
   "source": [
    "import pandas as pd\n",
    "import os\n",
    "import json\n",
    "import pickle"
   ]
  },
  {
   "cell_type": "markdown",
   "id": "c9cf107d",
   "metadata": {},
   "source": [
    "# Quantify the number of words that are OOV (without repetitions, just single words)"
   ]
  },
  {
   "cell_type": "code",
   "execution_count": 2,
   "id": "11b54d19",
   "metadata": {},
   "outputs": [],
   "source": [
    "def print_oov_ratio_dataset(MODEL, DATASET, MASKING='_OriginalPLL'):\n",
    "    print(f'{MODEL} | {DATASET}')\n",
    "    \"\"\"\n",
    "    This function prints and returns the ratio of OOV words relative to the number of words\n",
    "    in the dataset (WITHOUT duplicates, i.e., disregarding the fact that words occur several times in a dataset)\n",
    "    \"\"\"\n",
    "    # Load likelihood scores\n",
    "    if DATASET != 'Brown':\n",
    "        likelihoods_df = pd.read_csv(f'results/unigram_likelihoods/{MODEL}/{DATASET}{MASKING}.csv')\n",
    "        likelihoods_df = likelihoods_df.rename(columns={\n",
    "            \"word\" : \"Word\"\n",
    "        })\n",
    "    else:\n",
    "        likelihood_frames = []\n",
    "        for chunk_ind in range(10):\n",
    "            # Load likelihood scores\n",
    "            likelihoods = pd.read_csv(f'results/unigram_likelihoods/{MODEL}/{DATASET}{MASKING}_chunk={chunk_ind}.csv')\n",
    "            likelihood_frames.append(likelihoods)\n",
    "        likelihoods_df = pd.concat(likelihood_frames)\n",
    "        likelihoods_df = likelihoods_df.rename(columns={\n",
    "            \"word\" : \"Word\"\n",
    "        })\n",
    "    \n",
    "    single_token_df = likelihoods_df.loc[likelihoods_df['nr. of tokens'] == 1]\n",
    "    in_vocab_ratio = len(single_token_df.index)/len(likelihoods_df.index)\n",
    "    print(f'Number of words in model vocab: {len(single_token_df.index)}')\n",
    "    print(f'Number of words: {len(likelihoods_df.index)}')\n",
    "    print(f'OOV ratio: {100 - round(in_vocab_ratio*100,2)}%\\n')\n",
    "    return single_token_df"
   ]
  },
  {
   "cell_type": "code",
   "execution_count": 3,
   "id": "33749d84",
   "metadata": {},
   "outputs": [
    {
     "name": "stdout",
     "output_type": "stream",
     "text": [
      "bert-base-cased | EventsAdapt\n",
      "Number of words in model vocab: 727\n",
      "Number of words: 1204\n",
      "OOV ratio: 39.62%\n",
      "\n",
      "bert-base-cased | LibriSpeech\n",
      "Number of words in model vocab: 5170\n",
      "Number of words: 8138\n",
      "OOV ratio: 36.47%\n",
      "\n",
      "bert-base-cased | Brown\n",
      "Number of words in model vocab: 10533\n",
      "Number of words: 23470\n",
      "OOV ratio: 55.12%\n",
      "\n"
     ]
    },
    {
     "data": {
      "text/html": [
       "<div>\n",
       "<style scoped>\n",
       "    .dataframe tbody tr th:only-of-type {\n",
       "        vertical-align: middle;\n",
       "    }\n",
       "\n",
       "    .dataframe tbody tr th {\n",
       "        vertical-align: top;\n",
       "    }\n",
       "\n",
       "    .dataframe thead th {\n",
       "        text-align: right;\n",
       "    }\n",
       "</style>\n",
       "<table border=\"1\" class=\"dataframe\">\n",
       "  <thead>\n",
       "    <tr style=\"text-align: right;\">\n",
       "      <th></th>\n",
       "      <th>Word</th>\n",
       "      <th>nr. of tokens</th>\n",
       "      <th>tokens</th>\n",
       "      <th>word score</th>\n",
       "    </tr>\n",
       "  </thead>\n",
       "  <tbody>\n",
       "    <tr>\n",
       "      <th>0</th>\n",
       "      <td>a</td>\n",
       "      <td>1</td>\n",
       "      <td>a</td>\n",
       "      <td>-6.896328</td>\n",
       "    </tr>\n",
       "    <tr>\n",
       "      <th>4</th>\n",
       "      <td>abandon</td>\n",
       "      <td>1</td>\n",
       "      <td>abandon</td>\n",
       "      <td>-13.637449</td>\n",
       "    </tr>\n",
       "    <tr>\n",
       "      <th>5</th>\n",
       "      <td>abandoned</td>\n",
       "      <td>1</td>\n",
       "      <td>abandoned</td>\n",
       "      <td>-12.547158</td>\n",
       "    </tr>\n",
       "    <tr>\n",
       "      <th>6</th>\n",
       "      <td>abandoning</td>\n",
       "      <td>1</td>\n",
       "      <td>abandoning</td>\n",
       "      <td>-15.524755</td>\n",
       "    </tr>\n",
       "    <tr>\n",
       "      <th>7</th>\n",
       "      <td>abbey</td>\n",
       "      <td>1</td>\n",
       "      <td>abbey</td>\n",
       "      <td>-14.247076</td>\n",
       "    </tr>\n",
       "    <tr>\n",
       "      <th>...</th>\n",
       "      <td>...</td>\n",
       "      <td>...</td>\n",
       "      <td>...</td>\n",
       "      <td>...</td>\n",
       "    </tr>\n",
       "    <tr>\n",
       "      <th>2338</th>\n",
       "      <td>zipper</td>\n",
       "      <td>1</td>\n",
       "      <td>zipper</td>\n",
       "      <td>-13.062677</td>\n",
       "    </tr>\n",
       "    <tr>\n",
       "      <th>2339</th>\n",
       "      <td>zombies</td>\n",
       "      <td>1</td>\n",
       "      <td>zombies</td>\n",
       "      <td>-13.507646</td>\n",
       "    </tr>\n",
       "    <tr>\n",
       "      <th>2340</th>\n",
       "      <td>zone</td>\n",
       "      <td>1</td>\n",
       "      <td>zone</td>\n",
       "      <td>-13.064455</td>\n",
       "    </tr>\n",
       "    <tr>\n",
       "      <th>2342</th>\n",
       "      <td>zoo</td>\n",
       "      <td>1</td>\n",
       "      <td>zoo</td>\n",
       "      <td>-13.722513</td>\n",
       "    </tr>\n",
       "    <tr>\n",
       "      <th>2344</th>\n",
       "      <td>zur</td>\n",
       "      <td>1</td>\n",
       "      <td>zur</td>\n",
       "      <td>-15.108334</td>\n",
       "    </tr>\n",
       "  </tbody>\n",
       "</table>\n",
       "<p>10533 rows × 4 columns</p>\n",
       "</div>"
      ],
      "text/plain": [
       "            Word  nr. of tokens      tokens  word score\n",
       "0              a              1           a   -6.896328\n",
       "4        abandon              1     abandon  -13.637449\n",
       "5      abandoned              1   abandoned  -12.547158\n",
       "6     abandoning              1  abandoning  -15.524755\n",
       "7          abbey              1       abbey  -14.247076\n",
       "...          ...            ...         ...         ...\n",
       "2338      zipper              1      zipper  -13.062677\n",
       "2339     zombies              1     zombies  -13.507646\n",
       "2340        zone              1        zone  -13.064455\n",
       "2342         zoo              1         zoo  -13.722513\n",
       "2344         zur              1         zur  -15.108334\n",
       "\n",
       "[10533 rows x 4 columns]"
      ]
     },
     "execution_count": 3,
     "metadata": {},
     "output_type": "execute_result"
    }
   ],
   "source": [
    "MODEL='bert-base-cased'\n",
    "print_oov_ratio_dataset(MODEL=MODEL, DATASET='EventsAdapt')\n",
    "print_oov_ratio_dataset(MODEL=MODEL, DATASET='LibriSpeech')\n",
    "print_oov_ratio_dataset(MODEL=MODEL, DATASET='Brown')"
   ]
  },
  {
   "cell_type": "markdown",
   "id": "2e799f3e",
   "metadata": {},
   "source": [
    "# Quantify the number of words that are OOV (with repetitions, i.e. accounting for multiple occurrences of words across sentences)"
   ]
  },
  {
   "cell_type": "code",
   "execution_count": 4,
   "id": "ec08d262",
   "metadata": {},
   "outputs": [],
   "source": [
    "def load_sentences(DATASET):\n",
    "    if DATASET == \"LibriSpeech\":\n",
    "        def _apply_tokenizer_opts(sent: str) -> str: # from Salazar et al. (2021)\n",
    "            sent += '.'\n",
    "            sent = sent.capitalize()\n",
    "            return sent\n",
    "        sentences = []\n",
    "        with open('data/librispeech/data/test-clean.am.json') as json_file:\n",
    "            corpus = json.load(json_file)\n",
    "            for sent_idx, value in corpus.items():\n",
    "                ref_stimulus = _apply_tokenizer_opts(value[\"ref\"]) # Only scoring ref sentences\n",
    "                sentences.append(ref_stimulus)\n",
    "\n",
    "    elif DATASET == \"Brown\":\n",
    "        with open('data/brown/brown_stimuli.pkl', 'rb') as f:\n",
    "            df = pickle.load(f)\n",
    "        sentences = df[\"sentence\"].values\n",
    "\n",
    "    else:\n",
    "        df = pd.read_csv(os.path.abspath(\"data/eventsAdapt/clean_EventsAdapt_SentenceSet.csv\"))\n",
    "        sentences = df[\"Sentence\"].values\n",
    "    return sentences"
   ]
  },
  {
   "cell_type": "code",
   "execution_count": 5,
   "id": "cc7a4f31",
   "metadata": {},
   "outputs": [],
   "source": [
    "def extract_words(sentences):\n",
    "    words = [sent.lower().rstrip(\".\").split() for sent in sentences]\n",
    "    words = [item for sublist in words for item in sublist]\n",
    "    words = [word for word in words if word.isalpha()] #keep only letter strings\n",
    "    return words"
   ]
  },
  {
   "cell_type": "code",
   "execution_count": 6,
   "id": "2a6c0c47",
   "metadata": {},
   "outputs": [],
   "source": [
    "def print_oov_ratio_across_full_dataset(MODEL, DATASET, MASKING='_OriginalPLL'):\n",
    "    \"\"\"\n",
    "    This function prints and returns the ratio of OOV words relative to the full number of words\n",
    "    in the dataset (with duplicates)\n",
    "    \"\"\"\n",
    "    print(f'{MODEL} | {DATASET}')\n",
    "    # Load file containing tokenized words\n",
    "    if DATASET != 'Brown':\n",
    "        likelihoods_df = pd.read_csv(f'results/unigram_likelihoods/{MODEL}/{DATASET}{MASKING}.csv')\n",
    "    else:\n",
    "        likelihood_frames = []\n",
    "        for chunk_ind in range(10):\n",
    "            # Load likelihood scores\n",
    "            likelihoods = pd.read_csv(f'results/unigram_likelihoods/{MODEL}/{DATASET}{MASKING}_chunk={chunk_ind}.csv')\n",
    "            likelihood_frames.append(likelihoods)\n",
    "        likelihoods_df = pd.concat(likelihood_frames)\n",
    "    \n",
    "    # Load sentences & words\n",
    "    sentences = load_sentences(DATASET)\n",
    "    words = extract_words(sentences)\n",
    "    \n",
    "    from collections import Counter\n",
    "    word_occurrence_counter = Counter(words)\n",
    "\n",
    "    single_token_words = []\n",
    "    subtract_cnt = 0\n",
    "    for w, cnt in word_occurrence_counter.items():\n",
    "        try:\n",
    "            nr_word_tokens = likelihoods_df.loc[likelihoods_df['word'] == w]['nr. of tokens'].iloc[0]\n",
    "        except:\n",
    "            print(f'Word #{w}# not found in dataframe!')\n",
    "            subtract_cnt += 1 * cnt\n",
    "        if nr_word_tokens == 1:\n",
    "            single_token_words.extend([w]*cnt)\n",
    "            \n",
    "    print(f'Nr. of unmatched words: {subtract_cnt}')\n",
    "    in_vocab_ratio = len(single_token_words)/(len(words) - subtract_cnt)\n",
    "    \n",
    "    print(f'Number of words in model vocab: {len(single_token_words)}')\n",
    "    print(f'Number of words: {len(words)}')\n",
    "    print(f'OOV word ratio: {100 - round(in_vocab_ratio*100,2)}%\\n')"
   ]
  },
  {
   "cell_type": "markdown",
   "id": "0d519c77",
   "metadata": {},
   "source": [
    "# BERT"
   ]
  },
  {
   "cell_type": "code",
   "execution_count": 7,
   "id": "3f44b4d3",
   "metadata": {},
   "outputs": [],
   "source": [
    "MODEL='bert-base-cased'"
   ]
  },
  {
   "cell_type": "code",
   "execution_count": 8,
   "id": "ec1a5177",
   "metadata": {},
   "outputs": [
    {
     "name": "stdout",
     "output_type": "stream",
     "text": [
      "bert-base-cased | EventsAdapt\n",
      "Nr. of unmatched words: 0\n",
      "Number of words in model vocab: 7632\n",
      "Number of words: 9492\n",
      "OOV word ratio: 19.599999999999994%\n",
      "\n"
     ]
    }
   ],
   "source": [
    "print_oov_ratio_across_full_dataset(MODEL=MODEL, DATASET='EventsAdapt')"
   ]
  },
  {
   "cell_type": "code",
   "execution_count": 9,
   "id": "abbc2c66",
   "metadata": {},
   "outputs": [
    {
     "name": "stdout",
     "output_type": "stream",
     "text": [
      "bert-base-cased | LibriSpeech\n",
      "Nr. of unmatched words: 0\n",
      "Number of words in model vocab: 47881\n",
      "Number of words: 52032\n",
      "OOV word ratio: 7.980000000000004%\n",
      "\n"
     ]
    }
   ],
   "source": [
    "print_oov_ratio_across_full_dataset(MODEL=MODEL, DATASET='LibriSpeech')"
   ]
  },
  {
   "cell_type": "code",
   "execution_count": 10,
   "id": "c4f3d1cd",
   "metadata": {},
   "outputs": [
    {
     "name": "stdout",
     "output_type": "stream",
     "text": [
      "bert-base-cased | Brown\n",
      "Word #null# not found in dataframe!\n",
      "Nr. of unmatched words: 5\n",
      "Number of words in model vocab: 287261\n",
      "Number of words: 312734\n",
      "OOV word ratio: 8.14%\n",
      "\n"
     ]
    }
   ],
   "source": [
    "print_oov_ratio_across_full_dataset(MODEL=MODEL, DATASET='Brown')"
   ]
  },
  {
   "cell_type": "markdown",
   "id": "17c7d62a",
   "metadata": {},
   "source": [
    "# RoBERTa"
   ]
  },
  {
   "cell_type": "code",
   "execution_count": 11,
   "id": "5500576c",
   "metadata": {},
   "outputs": [
    {
     "name": "stdout",
     "output_type": "stream",
     "text": [
      "roberta-base | EventsAdapt\n",
      "Nr. of unmatched words: 0\n",
      "Number of words in model vocab: 5664\n",
      "Number of words: 9492\n",
      "OOV word ratio: 40.33%\n",
      "\n"
     ]
    }
   ],
   "source": [
    "MODEL='roberta-base'\n",
    "print_oov_ratio_across_full_dataset(MODEL=MODEL, DATASET='EventsAdapt')"
   ]
  },
  {
   "cell_type": "code",
   "execution_count": 12,
   "id": "52d6a15f",
   "metadata": {},
   "outputs": [
    {
     "name": "stdout",
     "output_type": "stream",
     "text": [
      "roberta-base | LibriSpeech\n",
      "Nr. of unmatched words: 0\n",
      "Number of words in model vocab: 39392\n",
      "Number of words: 52032\n",
      "OOV word ratio: 24.290000000000006%\n",
      "\n"
     ]
    }
   ],
   "source": [
    "print_oov_ratio_across_full_dataset(MODEL=MODEL, DATASET='LibriSpeech')"
   ]
  },
  {
   "cell_type": "code",
   "execution_count": 13,
   "id": "44855b70",
   "metadata": {},
   "outputs": [
    {
     "name": "stdout",
     "output_type": "stream",
     "text": [
      "roberta-base | Brown\n",
      "Word #null# not found in dataframe!\n",
      "Nr. of unmatched words: 5\n",
      "Number of words in model vocab: 234219\n",
      "Number of words: 312734\n",
      "OOV word ratio: 25.099999999999994%\n",
      "\n"
     ]
    }
   ],
   "source": [
    "print_oov_ratio_across_full_dataset(MODEL=MODEL, DATASET='Brown')"
   ]
  },
  {
   "cell_type": "markdown",
   "id": "2a02bdd0",
   "metadata": {},
   "source": [
    "# GPT"
   ]
  },
  {
   "cell_type": "code",
   "execution_count": 14,
   "id": "b13be710",
   "metadata": {},
   "outputs": [
    {
     "name": "stdout",
     "output_type": "stream",
     "text": [
      "gpt2-medium | EventsAdapt\n",
      "Nr. of unmatched words: 0\n",
      "Number of words in model vocab: 5664\n",
      "Number of words: 9492\n",
      "OOV word ratio: 40.33%\n",
      "\n"
     ]
    }
   ],
   "source": [
    "MODEL='gpt2-medium'\n",
    "print_oov_ratio_across_full_dataset(MODEL, DATASET='EventsAdapt', MASKING='')"
   ]
  },
  {
   "cell_type": "code",
   "execution_count": 15,
   "id": "b93d4317",
   "metadata": {},
   "outputs": [
    {
     "name": "stdout",
     "output_type": "stream",
     "text": [
      "gpt2-medium | LibriSpeech\n",
      "Nr. of unmatched words: 0\n",
      "Number of words in model vocab: 39392\n",
      "Number of words: 52032\n",
      "OOV word ratio: 24.290000000000006%\n",
      "\n"
     ]
    }
   ],
   "source": [
    "print_oov_ratio_across_full_dataset(MODEL, DATASET='LibriSpeech', MASKING='')"
   ]
  },
  {
   "cell_type": "code",
   "execution_count": 16,
   "id": "d7875b99",
   "metadata": {},
   "outputs": [
    {
     "name": "stdout",
     "output_type": "stream",
     "text": [
      "gpt2-medium | Brown\n",
      "Word #null# not found in dataframe!\n",
      "Nr. of unmatched words: 5\n",
      "Number of words in model vocab: 234219\n",
      "Number of words: 312734\n",
      "OOV word ratio: 25.099999999999994%\n",
      "\n"
     ]
    }
   ],
   "source": [
    "print_oov_ratio_across_full_dataset(MODEL, DATASET='Brown', MASKING='')"
   ]
  },
  {
   "cell_type": "code",
   "execution_count": null,
   "id": "3204b018",
   "metadata": {},
   "outputs": [],
   "source": []
  }
 ],
 "metadata": {
  "kernelspec": {
   "display_name": "Python 3 (ipykernel)",
   "language": "python",
   "name": "python3"
  },
  "language_info": {
   "codemirror_mode": {
    "name": "ipython",
    "version": 3
   },
   "file_extension": ".py",
   "mimetype": "text/x-python",
   "name": "python",
   "nbconvert_exporter": "python",
   "pygments_lexer": "ipython3",
   "version": "3.9.15"
  }
 },
 "nbformat": 4,
 "nbformat_minor": 5
}
